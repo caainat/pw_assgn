{
 "cells": [
  {
   "cell_type": "code",
   "execution_count": 1,
   "metadata": {},
   "outputs": [
    {
     "data": {
      "text/plain": [
       "\"Multithreading in Python:\\nMultithreading in Python refers to the ability of a program to execute multiple threads concurrently.\\nA thread is a separate flow of execution. Python's threading module is used to create and manage threads.\\nMultithreading is used to achieve parallelism and improve performance in certain types of applications, \\nparticularly those involving I/O-bound tasks or tasks that can be parallelized.\\n\""
      ]
     },
     "execution_count": 1,
     "metadata": {},
     "output_type": "execute_result"
    }
   ],
   "source": [
    "    \"\"\"\n",
    "    ans 1 \n",
    "    Multithreading in Python:\n",
    "Multithreading in Python refers to the ability of a program to execute multiple threads concurrently.\n",
    "A thread is a separate flow of execution. Python's threading module is used to create and manage threads.\n",
    "Multithreading is used to achieve parallelism and improve performance in certain types of applications, \n",
    "particularly those involving I/O-bound tasks or tasks that can be parallelized.\n",
    "    \"\"\""
   ]
  },
  {
   "cell_type": "code",
   "execution_count": 2,
   "metadata": {},
   "outputs": [
    {
     "data": {
      "text/plain": [
       "'ans 2 \\nThreading Module Functions:\\n\\nactiveCount: Returns the number of Thread objects currently alive.\\ncurrentThread: Returns the current Thread object.\\nenumerate: Returns a list of all Thread objects currently alive.\\n'"
      ]
     },
     "execution_count": 2,
     "metadata": {},
     "output_type": "execute_result"
    }
   ],
   "source": [
    "    \"\"\"ans 2 \n",
    "    Threading Module Functions:\n",
    "\n",
    "activeCount: Returns the number of Thread objects currently alive.\n",
    "currentThread: Returns the current Thread object.\n",
    "enumerate: Returns a list of all Thread objects currently alive.\n",
    "    \"\"\""
   ]
  },
  {
   "cell_type": "code",
   "execution_count": 3,
   "metadata": {},
   "outputs": [
    {
     "data": {
      "text/plain": [
       "\"ans 3 \\nThread Functions:\\n\\nrun: This method represents the entry point of the thread. It's overridden in a subclass to implement the specific behavior of the thread.\\nstart: This method starts the thread's activity. It must be called at most once per thread object.\\njoin: This method blocks the calling thread until the thread whose join() method is called terminates.\\nisAlive: This method returns True if the thread is alive (i.e., started and not yet terminated), otherwise False.\\n\""
      ]
     },
     "execution_count": 3,
     "metadata": {},
     "output_type": "execute_result"
    }
   ],
   "source": [
    "    \"\"\"ans 3 \n",
    "    Thread Functions:\n",
    "\n",
    "run: This method represents the entry point of the thread. It's overridden in a subclass to implement the specific behavior of the thread.\n",
    "start: This method starts the thread's activity. It must be called at most once per thread object.\n",
    "join: This method blocks the calling thread until the thread whose join() method is called terminates.\n",
    "isAlive: This method returns True if the thread is alive (i.e., started and not yet terminated), otherwise False.\n",
    "    \"\"\""
   ]
  },
  {
   "cell_type": "code",
   "execution_count": 4,
   "metadata": {},
   "outputs": [
    {
     "data": {
      "text/plain": [
       "'\\nans 4 \\n'"
      ]
     },
     "execution_count": 4,
     "metadata": {},
     "output_type": "execute_result"
    }
   ],
   "source": [
    "    \"\"\"\n",
    "    ans 4 \n",
    "    \"\"\""
   ]
  },
  {
   "cell_type": "code",
   "execution_count": 6,
   "metadata": {},
   "outputs": [
    {
     "name": "stdout",
     "output_type": "stream",
     "text": [
      "Square of 1: 1\n",
      "Square of 2: 4\n",
      "Square of 3: 9\n",
      "Square of 4: 16\n",
      "Square of 5: 25\n",
      "Cube of 1: 1\n",
      "Cube of 2: 8\n",
      "Cube of 3: 27\n",
      "Cube of 4: 64\n",
      "Cube of 5: 125\n",
      "Both threads have finished execution\n"
     ]
    }
   ],
   "source": [
    "import threading\n",
    "\n",
    "# Function to print squares\n",
    "def print_squares():\n",
    "    for i in range(1, 6):\n",
    "        print(f\"Square of {i}: {i*i}\")\n",
    "\n",
    "# Function to print cubes\n",
    "def print_cubes():\n",
    "    for i in range(1, 6):\n",
    "        print(f\"Cube of {i}: {i*i*i}\")\n",
    "\n",
    "# Creating threads\n",
    "thread1 = threading.Thread(target=print_squares)\n",
    "thread2 = threading.Thread(target=print_cubes)\n",
    "\n",
    "# Starting threads\n",
    "thread1.start()\n",
    "thread2.start()\n",
    "\n",
    "# Waiting for threads to finish\n",
    "thread1.join()\n",
    "thread2.join()\n",
    "\n",
    "print(\"Both threads have finished execution\")\n"
   ]
  },
  {
   "cell_type": "code",
   "execution_count": 7,
   "metadata": {},
   "outputs": [
    {
     "data": {
      "text/plain": [
       "\"ans 5\\nAdvantages and Disadvantages of Multithreading:\\n\\nAdvantages:\\nImproved performance: Multithreading can utilize multiple CPU cores effectively, leading to faster execution of tasks.\\nResponsiveness: Multithreading can keep an application responsive to user input even when performing intensive tasks.\\nResource sharing: Threads within the same process can share resources like memory, which can lead to efficient resource utilization.\\nDisadvantages:\\nComplexity: Multithreaded programs are often more complex due to concerns such as synchronization, thread safety, and potential race conditions.\\nOverhead: Creating and managing threads have overhead costs in terms of memory and CPU usage.\\nSynchronization issues: Concurrent access to shared resources can lead to synchronization problems such as deadlocks and race conditions.\\nDeadlocks and Race Conditions:\\n\\nDeadlock: Deadlock occurs when two or more threads are waiting indefinitely for each other to release resources. \\nThis situation arises when multiple threads acquire locks on resources and then wait for each other without releasing\\nthe resources they hold. As a result, none of the threads can proceed, leading to a deadlock.\\nRace Condition: A race condition occurs when the outcome of a program depends on the sequence or timing of uncontrollable events.\\nIn the context of multithreading, it occurs when the correctness of the program depends on the interleaving of operations performed \\nby multiple threads. If the threads access shared resources or data without proper synchronization, the program's behavior becomes\\nunpredictable, leading to incorrect results.\\n\""
      ]
     },
     "execution_count": 7,
     "metadata": {},
     "output_type": "execute_result"
    }
   ],
   "source": [
    "    \"\"\"ans 5\n",
    "    Advantages and Disadvantages of Multithreading:\n",
    "\n",
    "Advantages:\n",
    "Improved performance: Multithreading can utilize multiple CPU cores effectively, leading to faster execution of tasks.\n",
    "Responsiveness: Multithreading can keep an application responsive to user input even when performing intensive tasks.\n",
    "Resource sharing: Threads within the same process can share resources like memory, which can lead to efficient resource utilization.\n",
    "Disadvantages:\n",
    "Complexity: Multithreaded programs are often more complex due to concerns such as synchronization, thread safety, and potential race conditions.\n",
    "Overhead: Creating and managing threads have overhead costs in terms of memory and CPU usage.\n",
    "Synchronization issues: Concurrent access to shared resources can lead to synchronization problems such as deadlocks and race conditions.\n",
    "\n",
    "    \"\"\""
   ]
  },
  {
   "cell_type": "code",
   "execution_count": 8,
   "metadata": {},
   "outputs": [
    {
     "data": {
      "text/plain": [
       "\"ans 6 \\nDeadlocks and Race Conditions:\\n\\nDeadlock: Deadlock occurs when two or more threads are waiting indefinitely for each other to release resources. \\nThis situation arises when multiple threads acquire locks on resources and then wait for each other without releasing\\nthe resources they hold. As a result, none of the threads can proceed, leading to a deadlock.\\n\\nRace Condition: A race condition occurs when the outcome of a program depends on the sequence or timing of uncontrollable events.\\nIn the context of multithreading, it occurs when the correctness of the program depends on the interleaving of operations performed \\nby multiple threads. If the threads access shared resources or data without proper synchronization, the program's behavior becomes\\nunpredictable, leading to incorrect results.\\n\""
      ]
     },
     "execution_count": 8,
     "metadata": {},
     "output_type": "execute_result"
    }
   ],
   "source": [
    "    \"\"\"ans 6 \n",
    "    Deadlocks and Race Conditions:\n",
    "\n",
    "Deadlock: Deadlock occurs when two or more threads are waiting indefinitely for each other to release resources. \n",
    "This situation arises when multiple threads acquire locks on resources and then wait for each other without releasing\n",
    "the resources they hold. As a result, none of the threads can proceed, leading to a deadlock.\n",
    "\n",
    "Race Condition: A race condition occurs when the outcome of a program depends on the sequence or timing of uncontrollable events.\n",
    "In the context of multithreading, it occurs when the correctness of the program depends on the interleaving of operations performed \n",
    "by multiple threads. If the threads access shared resources or data without proper synchronization, the program's behavior becomes\n",
    "unpredictable, leading to incorrect results.\n",
    "    \"\"\""
   ]
  },
  {
   "cell_type": "code",
   "execution_count": null,
   "metadata": {},
   "outputs": [],
   "source": []
  },
  {
   "cell_type": "code",
   "execution_count": null,
   "metadata": {},
   "outputs": [],
   "source": []
  },
  {
   "cell_type": "code",
   "execution_count": null,
   "metadata": {},
   "outputs": [],
   "source": []
  }
 ],
 "metadata": {
  "kernelspec": {
   "display_name": "Python 3",
   "language": "python",
   "name": "python3"
  },
  "language_info": {
   "codemirror_mode": {
    "name": "ipython",
    "version": 3
   },
   "file_extension": ".py",
   "mimetype": "text/x-python",
   "name": "python",
   "nbconvert_exporter": "python",
   "pygments_lexer": "ipython3",
   "version": "3.12.2"
  }
 },
 "nbformat": 4,
 "nbformat_minor": 2
}
