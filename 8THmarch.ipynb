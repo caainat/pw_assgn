{
 "cells": [
  {
   "cell_type": "code",
   "execution_count": 2,
   "metadata": {},
   "outputs": [
    {
     "data": {
      "text/plain": [
       "\" ans 1 \\nImagine you have a bunch of data points like test scores or heights of people. The probability density function (PDF) helps us understand how\\nlikely it is for a value to occur within a certain range. \\n\\nThink of it this way: if you were to graph all these data points, the PDF tells you how dense or spread out those points are along the graph. \\n\\nFor example, let's say we're measuring the heights of people in a classroom. The PDF would show us if most people are around a certain height, or\\nif they're spread out across a wide range of heights.\\n\\nSo, it's like a tool that helps us see the likelihood of different values occurring within our data.\\n\""
      ]
     },
     "execution_count": 2,
     "metadata": {},
     "output_type": "execute_result"
    }
   ],
   "source": [
    "    \"\"\" ans 1 \n",
    "    Imagine you have a bunch of data points like test scores or heights of people. The probability density function (PDF) helps us understand how\n",
    "    likely it is for a value to occur within a certain range. \n",
    "\n",
    "Think of it this way: if you were to graph all these data points, the PDF tells you how dense or spread out those points are along the graph. \n",
    "\n",
    "For example, let's say we're measuring the heights of people in a classroom. The PDF would show us if most people are around a certain height, or\n",
    "if they're spread out across a wide range of heights.\n",
    "\n",
    "So, it's like a tool that helps us see the likelihood of different values occurring within our data.\n",
    "    \"\"\""
   ]
  },
  {
   "cell_type": "code",
   "execution_count": 3,
   "metadata": {},
   "outputs": [
    {
     "data": {
      "text/plain": [
       "\"ans 2 \\nSure, here's a brief overview of some common types of probability distributions:\\n\\n1. Continuous Distributions:\\n   - Normal (Gaussian) Distribution\\n   - Uniform Distribution\\n   - Exponential Distribution\\n\\n2. Discrete Distributions:\\n   - Bernoulli Distribution\\n   - Binomial Distribution\\n   - Poisson Distribution\\n\\nThese distributions are used to model various types of random phenomena in fields such as statistics, physics, finance, and engineering.\\n\""
      ]
     },
     "execution_count": 3,
     "metadata": {},
     "output_type": "execute_result"
    }
   ],
   "source": [
    "    \"\"\"ans 2 \n",
    "    Sure, here's a brief overview of some common types of probability distributions:\n",
    "\n",
    "1. Continuous Distributions:\n",
    "   - Normal (Gaussian) Distribution\n",
    "   - Uniform Distribution\n",
    "   - Exponential Distribution\n",
    "\n",
    "2. Discrete Distributions:\n",
    "   - Bernoulli Distribution\n",
    "   - Binomial Distribution\n",
    "   - Poisson Distribution\n",
    "\n",
    "These distributions are used to model various types of random phenomena in fields such as statistics, physics, finance, and engineering.\n",
    "    \"\"\""
   ]
  },
  {
   "cell_type": "code",
   "execution_count": 4,
   "metadata": {},
   "outputs": [
    {
     "data": {
      "text/plain": [
       "'ans 3 \\n'"
      ]
     },
     "execution_count": 4,
     "metadata": {},
     "output_type": "execute_result"
    }
   ],
   "source": [
    "    \"\"\"ans 3 \n",
    "    \"\"\""
   ]
  },
  {
   "cell_type": "code",
   "execution_count": 5,
   "metadata": {},
   "outputs": [
    {
     "name": "stdout",
     "output_type": "stream",
     "text": [
      "PDF at x = 45.0 : 0.019333405840142464\n"
     ]
    }
   ],
   "source": [
    "import math\n",
    "\n",
    "def normal_pdf(x, mu, sigma):\n",
    "    \"\"\"\n",
    "    Calculate the probability density function (PDF) of a normal distribution\n",
    "    at a given point x with mean mu and standard deviation sigma.\n",
    "    \n",
    "    Parameters:\n",
    "        x (float): The point at which to calculate the PDF.\n",
    "        mu (float): The mean of the normal distribution.\n",
    "        sigma (float): The standard deviation of the normal distribution.\n",
    "        \n",
    "    Returns:\n",
    "        float: The value of the PDF at the given point x.\n",
    "    \"\"\"\n",
    "    return (1 / (sigma * math.sqrt(2 * math.pi))) * math.exp(-0.5 * ((x - mu) / sigma) ** 2)\n",
    "\n",
    "def main():\n",
    "    # Input parameters\n",
    "    x = float(input(\"Enter the point (x): \"))\n",
    "    mu = float(input(\"Enter the mean (mu): \"))\n",
    "    sigma = float(input(\"Enter the standard deviation (sigma): \"))\n",
    "    \n",
    "    # Calculate PDF\n",
    "    pdf_value = normal_pdf(x, mu, sigma)\n",
    "    \n",
    "    # Output result\n",
    "    print(\"PDF at x =\", x, \":\", pdf_value)\n",
    "\n",
    "if __name__ == \"__main__\":\n",
    "    main()\n"
   ]
  },
  {
   "cell_type": "code",
   "execution_count": 7,
   "metadata": {},
   "outputs": [
    {
     "name": "stderr",
     "output_type": "stream",
     "text": [
      "<>:1: SyntaxWarning: invalid escape sequence '\\('\n",
      "<>:1: SyntaxWarning: invalid escape sequence '\\('\n",
      "C:\\Users\\kaina\\AppData\\Local\\Temp\\ipykernel_21748\\218271153.py:1: SyntaxWarning: invalid escape sequence '\\('\n",
      "  \"\"\" ans 4\n"
     ]
    },
    {
     "data": {
      "text/plain": [
       "' ans 4 \\nThe binomial distribution is a discrete probability distribution that models the number of successes in a fixed number of independent Bernoulli trials,\\nwhere each trial has the same probability of success . Here are some key properties of the binomial distribution:\\n\\n1. Number of Trials: The binomial distribution consists of a fixed number of  independent trials.\\n\\n2. Binary Outcome: Each trial results in one of two possible outcomes, typically labeled as success (with probability) or failure (with probability \\\\( 1-p \\\\)).\\n\\n3. Constant Probability: The probability of success  remains constant across all trials.\\n\\n4. Independence: The trials are assumed to be independent, meaning the outcome of one trial does not affect the outcome of another.\\n\\n5. Discreteness: The binomial distribution is discrete, meaning it models whole numbers of successes.\\n\\nExample \\n\\n Coin Flipping: When flipping a fair coin (with probability of heads ( p = 0.5 )) multiple times, the number of heads obtained in n flips follows a binomial distribution.\\n\\n'"
      ]
     },
     "execution_count": 7,
     "metadata": {},
     "output_type": "execute_result"
    }
   ],
   "source": [
    "    \"\"\" ans 4 \n",
    "    The binomial distribution is a discrete probability distribution that models the number of successes in a fixed number of independent Bernoulli trials,\n",
    "    where each trial has the same probability of success . Here are some key properties of the binomial distribution:\n",
    "\n",
    "1. Number of Trials: The binomial distribution consists of a fixed number of  independent trials.\n",
    "\n",
    "2. Binary Outcome: Each trial results in one of two possible outcomes, typically labeled as success (with probability) or failure (with probability \\( 1-p \\)).\n",
    "\n",
    "3. Constant Probability: The probability of success  remains constant across all trials.\n",
    "\n",
    "4. Independence: The trials are assumed to be independent, meaning the outcome of one trial does not affect the outcome of another.\n",
    "\n",
    "5. Discreteness: The binomial distribution is discrete, meaning it models whole numbers of successes.\n",
    "\n",
    "Example \n",
    "\n",
    " Coin Flipping: When flipping a fair coin (with probability of heads ( p = 0.5 )) multiple times, the number of heads obtained in n flips follows a binomial distribution.\n",
    "\n",
    "    \"\"\""
   ]
  },
  {
   "cell_type": "code",
   "execution_count": 9,
   "metadata": {},
   "outputs": [
    {
     "data": {
      "image/png": "[encoded data removed]",
      "text/plain": [
       "<Figure size 640x480 with 1 Axes>"
      ]
     },
     "metadata": {},
     "output_type": "display_data"
    }
   ],
   "source": [
    "    \"\"\"ANS 5 \n",
    "    \n",
    "    \"\"\"\n",
    "    import numpy as np\n",
    "import matplotlib.pyplot as plt\n",
    "\n",
    "# Parameters\n",
    "p = 0.4  # Probability of success\n",
    "n = 1000  # Sample size\n",
    "\n",
    "# Generate random sample from binomial distribution\n",
    "sample = np.random.binomial(n=1, p=p, size=n)\n",
    "\n",
    "# Plot histogram\n",
    "plt.hist(sample, bins=2, color='skyblue', edgecolor='black', alpha=0.7)\n",
    "plt.title('Histogram of Binomial Distribution')\n",
    "plt.xlabel('Number of Successes')\n",
    "plt.ylabel('Frequency')\n",
    "plt.xticks([0, 1])\n",
    "plt.show()\n"
   ]
  },
  {
   "cell_type": "code",
   "execution_count": 11,
   "metadata": {},
   "outputs": [
    {
     "name": "stdout",
     "output_type": "stream",
     "text": [
      "CDF at k = 2 : 0.8088468305380581\n"
     ]
    }
   ],
   "source": [
    "import math\n",
    "\n",
    "def poisson_cdf(k, lam):\n",
    "    \"\"\"\n",
    "    Calculate the cumulative distribution function (CDF) of a Poisson distribution\n",
    "    at a given point k with mean lambda.\n",
    "    \n",
    "    Parameters:\n",
    "        k (int): The point at which to calculate the CDF.\n",
    "        lam (float): The mean of the Poisson distribution.\n",
    "        \n",
    "    Returns:\n",
    "        float: The value of the CDF at the given point k.\n",
    "    \"\"\"\n",
    "    cdf = 0\n",
    "    for i in range(k + 1):\n",
    "        cdf += (math.exp(-lam) * (lam ** i)) / math.factorial(i)\n",
    "    return cdf\n",
    "\n",
    "# Example usage:\n",
    "k = 2\n",
    "lam = 1.5\n",
    "cdf_value = poisson_cdf(k, lam)\n",
    "print(\"CDF at k =\", k, \":\", cdf_value)\n"
   ]
  },
  {
   "cell_type": "code",
   "execution_count": 12,
   "metadata": {},
   "outputs": [
    {
     "data": {
      "text/plain": [
       "\"ANS 7 \\nThe Binomial distribution models the number of successes in a fixed number of independent Bernoulli trials with constant probability of success.\\nIt's discrete and applicable when the number of trials is known. In contrast, the Poisson distribution represents the number of events occurring\\nin a fixed interval of time or space, given a known average rate of occurrence. It's also discrete but assumes an indefinite number of trials and\\nis used to model rare events. While the Binomial distribution approximates the Poisson distribution under certain conditions, they differ in their\\nassumptions and applications.\\n\""
      ]
     },
     "execution_count": 12,
     "metadata": {},
     "output_type": "execute_result"
    }
   ],
   "source": [
    "    \"\"\"ANS 7 \n",
    "    The Binomial distribution models the number of successes in a fixed number of independent Bernoulli trials with constant probability of success.\n",
    "    It's discrete and applicable when the number of trials is known. In contrast, the Poisson distribution represents the number of events occurring\n",
    "    in a fixed interval of time or space, given a known average rate of occurrence. It's also discrete but assumes an indefinite number of trials and\n",
    "    is used to model rare events. While the Binomial distribution approximates the Poisson distribution under certain conditions, they differ in their\n",
    "    assumptions and applications.\n",
    "    \"\"\""
   ]
  },
  {
   "cell_type": "code",
   "execution_count": 13,
   "metadata": {},
   "outputs": [
    {
     "name": "stdout",
     "output_type": "stream",
     "text": [
      "Sample Mean: 4.931\n",
      "Sample Variance: 5.420239\n"
     ]
    }
   ],
   "source": [
    "import numpy as np\n",
    "\n",
    "# Parameters\n",
    "mean = 5\n",
    "sample_size = 1000\n",
    "\n",
    "# Generate random sample from Poisson distribution\n",
    "sample = np.random.poisson(lam=mean, size=sample_size)\n",
    "\n",
    "# Calculate sample mean and variance\n",
    "sample_mean = np.mean(sample)\n",
    "sample_variance = np.var(sample)\n",
    "\n",
    "print(\"Sample Mean:\", sample_mean)\n",
    "print(\"Sample Variance:\", sample_variance)\n"
   ]
  },
  {
   "cell_type": "code",
   "execution_count": 18,
   "metadata": {},
   "outputs": [
    {
     "data": {
      "text/plain": [
       "'ANS 8 \\nIn both the Binomial and Poisson distributions :\\n\\nBinomial Distribution:\\n- Mean: In a Binomial distribution with parameters  n  (number of trials) and p (probability of success), the mean is given by mu = np.\\n- Variance: The variance of a Binomial distribution is given by ( sigma^2 = np(1-p) ).\\n\\nIn the Binomial distribution, the variance depends on both the number of trials and the probability of success. As ( p ) approaches 0 or 1, the variance approaches 0, indicating less variability in outcomes.\\n\\nPoisson Distribution:\\n- Mean: In a Poisson distribution, the mean (lambda ) represents the average rate of occurrence of events in a fixed interval of time or space.\\n- Variance: The variance of a Poisson distribution is also given by (sigma^2 = lambda ).\\n\\nIn the Poisson distribution, the variance is equal to the mean (( lambda )). This property indicates that the spread or dispersion of the distribution is directly related to the average rate of occurrence of events. When the average rate (( lambda )) increases, the variability in the number of events also increases.\\n\\n'"
      ]
     },
     "execution_count": 18,
     "metadata": {},
     "output_type": "execute_result"
    }
   ],
   "source": [
    "    \"\"\"ANS 8 \n",
    "    In both the Binomial and Poisson distributions :\n",
    "\n",
    "Binomial Distribution:\n",
    "- Mean: In a Binomial distribution with parameters  n  (number of trials) and p (probability of success), the mean is given by mu = np.\n",
    "- Variance: The variance of a Binomial distribution is given by ( sigma^2 = np(1-p) ).\n",
    "\n",
    "In the Binomial distribution, the variance depends on both the number of trials and the probability of success. As ( p ) approaches 0 or 1, the variance approaches 0, indicating less variability in outcomes.\n",
    "\n",
    "Poisson Distribution:\n",
    "- Mean: In a Poisson distribution, the mean (lambda ) represents the average rate of occurrence of events in a fixed interval of time or space.\n",
    "- Variance: The variance of a Poisson distribution is also given by (sigma^2 = lambda ).\n",
    "\n",
    "In the Poisson distribution, the variance is equal to the mean (( lambda )). This property indicates that the spread or dispersion of the distribution is directly related to the average rate of occurrence of events. When the average rate (( lambda )) increases, the variability in the number of events also increases.\n",
    "\n",
    "    \"\"\""
   ]
  },
  {
   "cell_type": "code",
   "execution_count": 16,
   "metadata": {},
   "outputs": [
    {
     "data": {
      "text/plain": [
       "' ANS 9\\nIn both the Binomial and Poisson distributions:\\n\\n1. Mean (Expected Value): The mean represents the average number of successes or occurrences expected in a fixed number of trials (Binomial) or a fixed interval of time or space (Poisson). For a Binomial distribution with parameters  n (number of trials) and ( p ) (probability of success per trial), the mean is ( np ). For a Poisson distribution with parameter ( lambda ) (average rate of occurrence), the mean is ( lambda ).\\n\\n2. Variance: The variance measures the spread or dispersion of the distribution. In both distributions, the variance is equal to the mean (( np ) for Binomial and ( lambda ) for Poisson).\\n\\n '"
      ]
     },
     "execution_count": 16,
     "metadata": {},
     "output_type": "execute_result"
    }
   ],
   "source": [
    "    \"\"\" ANS 9\n",
    "    In both the Binomial and Poisson distributions:\n",
    "\n",
    "1. Mean (Expected Value): The mean represents the average number of successes or occurrences expected in a fixed number of trials (Binomial) or a fixed interval of time or space (Poisson). For a Binomial distribution with parameters  n (number of trials) and ( p ) (probability of success per trial), the mean is ( np ). For a Poisson distribution with parameter ( lambda ) (average rate of occurrence), the mean is ( lambda ).\n",
    "\n",
    "2. Variance: The variance measures the spread or dispersion of the distribution. In both distributions, the variance is equal to the mean (( np ) for Binomial and ( lambda ) for Poisson).\n",
    "\n",
    " \"\"\""
   ]
  },
  {
   "cell_type": "code",
   "execution_count": 17,
   "metadata": {},
   "outputs": [
    {
     "data": {
      "text/plain": [
       "'ANS 10\\n\\nIn a normal distribution, the least frequent data points typically appear at the tails of the distribution, farthest away from the mean position.\\nSince the normal distribution is symmetric around its mean, the least frequent data points are found at the extreme ends of the distribution,\\nknown as the tails.\\n'"
      ]
     },
     "execution_count": 17,
     "metadata": {},
     "output_type": "execute_result"
    }
   ],
   "source": [
    "    \"\"\"ANS 10\n",
    "    \n",
    "In a normal distribution, the least frequent data points typically appear at the tails of the distribution, farthest away from the mean position.\n",
    "Since the normal distribution is symmetric around its mean, the least frequent data points are found at the extreme ends of the distribution,\n",
    "known as the tails.\n",
    "    \"\"\""
   ]
  }
 ],
 "metadata": {
  "kernelspec": {
   "display_name": "Python 3",
   "language": "python",
   "name": "python3"
  },
  "language_info": {
   "codemirror_mode": {
    "name": "ipython",
    "version": 3
   },
   "file_extension": ".py",
   "mimetype": "text/x-python",
   "name": "python",
   "nbconvert_exporter": "python",
   "pygments_lexer": "ipython3",
   "version": "3.12.2"
  }
 },
 "nbformat": 4,
 "nbformat_minor": 2
}
