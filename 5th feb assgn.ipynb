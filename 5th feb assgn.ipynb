{
 "cells": [
  {
   "cell_type": "code",
   "execution_count": 1,
   "metadata": {},
   "outputs": [
    {
     "data": {
      "text/plain": [
       "\"Class and Object in Object-Oriented Programming (OOP):\\n\\nClass: In OOP, a class is a blueprint for creating objects (instances). It defines the attributes (data) and methods (functions) \\nthat will characterize any object created from that class. A class acts as a template or a blueprint for objects.\\nObject: An object is an instance of a class. It's a concrete entity based on a class and has its own state (attributes) and\\nbehavior (methods). Objects are created from classes using constructors.\\n\""
      ]
     },
     "execution_count": 1,
     "metadata": {},
     "output_type": "execute_result"
    }
   ],
   "source": [
    "    \"\"\"ans 1 \n",
    "    Class and Object in Object-Oriented Programming (OOP):\n",
    "\n",
    "Class: In OOP, a class is a blueprint for creating objects (instances). It defines the attributes (data) and methods (functions) \n",
    "that will characterize any object created from that class. A class acts as a template or a blueprint for objects.\n",
    "Object: An object is an instance of a class. It's a concrete entity based on a class and has its own state (attributes) and\n",
    "behavior (methods). Objects are created from classes using constructors.\n",
    "    \"\"\""
   ]
  },
  {
   "cell_type": "code",
   "execution_count": 2,
   "metadata": {},
   "outputs": [
    {
     "name": "stdout",
     "output_type": "stream",
     "text": [
      "Car make: Toyota\n",
      "Car model: Camry\n",
      "Car make: Tesla\n",
      "Car model: Model S\n"
     ]
    }
   ],
   "source": [
    "# Define a class\n",
    "class Car:\n",
    "    # Constructor\n",
    "    def __init__(self, make, model):\n",
    "        self.make = make\n",
    "        self.model = model\n",
    "\n",
    "    # Method\n",
    "    def display_info(self):\n",
    "        print(\"Car make:\", self.make)\n",
    "        print(\"Car model:\", self.model)\n",
    "\n",
    "# Create objects (instances) of the Car class\n",
    "car1 = Car(\"Toyota\", \"Camry\")\n",
    "car2 = Car(\"Tesla\", \"Model S\")\n",
    "\n",
    "# Accessing object attributes and methods\n",
    "car1.display_info()\n",
    "car2.display_info()\n"
   ]
  },
  {
   "cell_type": "code",
   "execution_count": 3,
   "metadata": {},
   "outputs": [
    {
     "data": {
      "text/plain": [
       "'Four pillars of OOPs:\\n\\nEncapsulation: It refers to the bundling of data and methods that operate on the data into a single unit or class.\\nAbstraction: It refers to the concept of hiding the complex implementation details and showing only the necessary features of the object.\\nInheritance: It allows a class (subclass or derived class) to inherit the properties and behavior (methods) of another class (superclass or base class).\\nPolymorphism: It allows objects of different classes to be treated as objects of a common superclass, thereby providing a way to perform a single action in different ways.\\n'"
      ]
     },
     "execution_count": 3,
     "metadata": {},
     "output_type": "execute_result"
    }
   ],
   "source": [
    "    \"\"\"Four pillars of OOPs:\n",
    "\n",
    "Encapsulation: It refers to the bundling of data and methods that operate on the data into a single unit or class.\n",
    "Abstraction: It refers to the concept of hiding the complex implementation details and showing only the necessary features of the object.\n",
    "Inheritance: It allows a class (subclass or derived class) to inherit the properties and behavior (methods) of another class (superclass or base class).\n",
    "Polymorphism: It allows objects of different classes to be treated as objects of a common superclass, thereby providing a way to perform a single action in different ways.\n",
    "    \"\"\""
   ]
  },
  {
   "cell_type": "code",
   "execution_count": 4,
   "metadata": {},
   "outputs": [
    {
     "data": {
      "text/plain": [
       "\"The __init__() function is used as a constructor method in Python classes. It gets called automatically when a new object of the class is instantiated.\\nIt initializes the object's attributes.\\n\""
      ]
     },
     "execution_count": 4,
     "metadata": {},
     "output_type": "execute_result"
    }
   ],
   "source": [
    "    \"\"\"The __init__() function is used as a constructor method in Python classes. It gets called automatically when a new object of the class is instantiated.\n",
    "    It initializes the object's attributes.\n",
    "    \"\"\""
   ]
  },
  {
   "cell_type": "code",
   "execution_count": 5,
   "metadata": {},
   "outputs": [
    {
     "name": "stdout",
     "output_type": "stream",
     "text": [
      "Alice\n",
      "30\n"
     ]
    }
   ],
   "source": [
    "class Person:\n",
    "    def __init__(self, name, age):\n",
    "        self.name = name\n",
    "        self.age = age\n",
    "\n",
    "# Creating an object of the Person class\n",
    "person1 = Person(\"Alice\", 30)\n",
    "print(person1.name)  # Output: Alice\n",
    "print(person1.age)   # Output: 30\n"
   ]
  },
  {
   "cell_type": "code",
   "execution_count": 6,
   "metadata": {},
   "outputs": [
    {
     "data": {
      "text/plain": [
       "'Use of self in OOPs:\\n\\nself is used to represent the instance of the class. It helps to differentiate between the attributes and methods of a class from local variables. \\nWhen you call a method of a class, self is implicitly passed as the first argument. It refers to the instance itself.\\n'"
      ]
     },
     "execution_count": 6,
     "metadata": {},
     "output_type": "execute_result"
    }
   ],
   "source": [
    "    \"\"\"Use of self in OOPs:\n",
    "\n",
    "self is used to represent the instance of the class. It helps to differentiate between the attributes and methods of a class from local variables. \n",
    "When you call a method of a class, self is implicitly passed as the first argument. It refers to the instance itself.\n",
    "    \"\"\""
   ]
  },
  {
   "cell_type": "code",
   "execution_count": 7,
   "metadata": {},
   "outputs": [
    {
     "data": {
      "text/plain": [
       "'Inheritance in OOP:\\n\\nInheritance is a mechanism in object-oriented programming where a new class inherits properties and behavior (methods) from an existing class. \\nThe class that inherits is called the subclass or derived class, and the class it inherits from is called the superclass or base class.\\n'"
      ]
     },
     "execution_count": 7,
     "metadata": {},
     "output_type": "execute_result"
    }
   ],
   "source": [
    "    \"\"\"Inheritance in OOP:\n",
    "\n",
    "Inheritance is a mechanism in object-oriented programming where a new class inherits properties and behavior (methods) from an existing class. \n",
    "The class that inherits is called the subclass or derived class, and the class it inherits from is called the superclass or base class.\n",
    "    \"\"\""
   ]
  },
  {
   "cell_type": "code",
   "execution_count": 8,
   "metadata": {},
   "outputs": [
    {
     "name": "stdout",
     "output_type": "stream",
     "text": [
      "Woof!\n",
      "Yap!\n",
      "Woof!\n"
     ]
    }
   ],
   "source": [
    "# Base class\n",
    "class Animal:\n",
    "    def speak(self):\n",
    "        pass\n",
    "\n",
    "# Derived class (Single Inheritance)\n",
    "class Dog(Animal):\n",
    "    def speak(self):\n",
    "        return \"Woof!\"\n",
    "\n",
    "# Derived class (Multiple Inheritance)\n",
    "class Terrier(Dog):\n",
    "    def speak(self):\n",
    "        return \"Yap!\"\n",
    "\n",
    "# Derived class (Multilevel Inheritance)\n",
    "class Bulldog(Dog):\n",
    "    pass\n",
    "\n",
    "# Creating objects and calling methods\n",
    "dog = Dog()\n",
    "terrier = Terrier()\n",
    "bulldog = Bulldog()\n",
    "\n",
    "print(dog.speak())        # Output: Woof!\n",
    "print(terrier.speak())    # Output: Yap!\n",
    "print(bulldog.speak())    # Output: Woof!\n"
   ]
  }
 ],
 "metadata": {
  "kernelspec": {
   "display_name": "Python 3",
   "language": "python",
   "name": "python3"
  },
  "language_info": {
   "codemirror_mode": {
    "name": "ipython",
    "version": 3
   },
   "file_extension": ".py",
   "mimetype": "text/x-python",
   "name": "python",
   "nbconvert_exporter": "python",
   "pygments_lexer": "ipython3",
   "version": "3.12.2"
  }
 },
 "nbformat": 4,
 "nbformat_minor": 2
}
