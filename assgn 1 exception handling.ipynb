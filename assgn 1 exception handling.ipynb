{
 "cells": [
  {
   "cell_type": "code",
   "execution_count": 1,
   "metadata": {},
   "outputs": [
    {
     "data": {
      "text/plain": [
       "'\\nans 1\\nAn exception in programming refers to an unexpected event that occurs during the execution of a program,\\ndisrupting the normal flow of instructions. These events can range from runtime errors like division by zero \\nto file-not-found errors. When an exception is encountered, the program halts its execution and typically\\nprovides an error message indicating the type of exception and its location in the code.\\n'"
      ]
     },
     "execution_count": 1,
     "metadata": {},
     "output_type": "execute_result"
    }
   ],
   "source": [
    "    \"\"\"\n",
    "    ans 1\n",
    "    An exception in programming refers to an unexpected event that occurs during the execution of a program,\n",
    "    disrupting the normal flow of instructions. These events can range from runtime errors like division by zero \n",
    "    to file-not-found errors. When an exception is encountered, the program halts its execution and typically\n",
    "    provides an error message indicating the type of exception and its location in the code.\n",
    "    \"\"\"\n",
    "    "
   ]
  },
  {
   "cell_type": "code",
   "execution_count": null,
   "metadata": {},
   "outputs": [],
   "source": []
  },
  {
   "cell_type": "code",
   "execution_count": 2,
   "metadata": {},
   "outputs": [
    {
     "name": "stdout",
     "output_type": "stream",
     "text": [
      "Error: division by zero\n"
     ]
    }
   ],
   "source": [
    "try:\n",
    "    result = 10 / 0  # Attempting to divide by zero\n",
    "except ZeroDivisionError as e:\n",
    "    print(\"Error:\", e)\n"
   ]
  },
  {
   "cell_type": "code",
   "execution_count": 3,
   "metadata": {},
   "outputs": [
    {
     "data": {
      "text/plain": [
       "\"\\n   \\nExceptions:\\n1. Occur during runtime when unexpected conditions or events happen.\\n2. Can be caught and handled using try-except blocks to prevent program crashes.\\n3. Examples include division by zero, file not found, or index out of range errors.\\n4. Exceptions disrupt the normal flow of the program's execution.\\n5. Usually caused by logical errors or unforeseen circumstances.\\n\\nSyntax Errors:\\n1. Detected by the interpreter/compiler during code parsing, before runtime.\\n2. Prevent the program from running and must be fixed before execution.\\n3. Result from grammatical mistakes or incorrect usage of language syntax.\\n4. Examples include missing colons, unmatched parentheses, or misspelled keywords.\\n5. Syntax errors relate to the structure and grammar of the code, not its logic or runtime behavior.\\n    \""
      ]
     },
     "execution_count": 3,
     "metadata": {},
     "output_type": "execute_result"
    }
   ],
   "source": [
    "\"\"\"\n",
    "   \n",
    "Exceptions:\n",
    "1. Occur during runtime when unexpected conditions or events happen.\n",
    "2. Can be caught and handled using try-except blocks to prevent program crashes.\n",
    "3. Examples include division by zero, file not found, or index out of range errors.\n",
    "4. Exceptions disrupt the normal flow of the program's execution.\n",
    "5. Usually caused by logical errors or unforeseen circumstances.\n",
    "\n",
    "Syntax Errors:\n",
    "1. Detected by the interpreter/compiler during code parsing, before runtime.\n",
    "2. Prevent the program from running and must be fixed before execution.\n",
    "3. Result from grammatical mistakes or incorrect usage of language syntax.\n",
    "4. Examples include missing colons, unmatched parentheses, or misspelled keywords.\n",
    "5. Syntax errors relate to the structure and grammar of the code, not its logic or runtime behavior.\n",
    "    \"\"\""
   ]
  },
  {
   "cell_type": "code",
   "execution_count": 4,
   "metadata": {},
   "outputs": [
    {
     "data": {
      "text/plain": [
       "'\\nans 2\\nWhen an exception is not handled in a program, it leads to what\\'s known as an \"unhandled exception.\"\\nEssentially, this means that the program encounters an error but doesn\\'t know how to deal with it, \\ncausing the program to crash or halt unexpectedly.\\n\\nIn practical terms, when an exception is not handled:\\n\\n   1. The program stops executing.\\n   2. An error message is often displayed, indicating the type of exception and where it occurred.\\n   3. The user may not get the expected output, or the program may not complete its intended task.\\n'"
      ]
     },
     "execution_count": 4,
     "metadata": {},
     "output_type": "execute_result"
    }
   ],
   "source": [
    "    \"\"\"\n",
    "    ans 2\n",
    "    When an exception is not handled in a program, it leads to what's known as an \"unhandled exception.\"\n",
    "    Essentially, this means that the program encounters an error but doesn't know how to deal with it, \n",
    "    causing the program to crash or halt unexpectedly.\n",
    "    \n",
    "    In practical terms, when an exception is not handled:\n",
    "\n",
    "   1. The program stops executing.\n",
    "   2. An error message is often displayed, indicating the type of exception and where it occurred.\n",
    "   3. The user may not get the expected output, or the program may not complete its intended task.\n",
    "    \"\"\""
   ]
  },
  {
   "cell_type": "code",
   "execution_count": 5,
   "metadata": {},
   "outputs": [
    {
     "data": {
      "text/plain": [
       "'\\nmy_list = [1, 2, 3]\\nprint(my_list[5])  # This will raise an IndexError\\n'"
      ]
     },
     "execution_count": 5,
     "metadata": {},
     "output_type": "execute_result"
    }
   ],
   "source": [
    "# Trying to access an index that doesn't exist\n",
    "\"\"\"\n",
    "my_list = [1, 2, 3]\n",
    "print(my_list[5])  # This will raise an IndexError\n",
    "\"\"\""
   ]
  },
  {
   "cell_type": "code",
   "execution_count": null,
   "metadata": {},
   "outputs": [],
   "source": []
  },
  {
   "cell_type": "code",
   "execution_count": 6,
   "metadata": {},
   "outputs": [
    {
     "name": "stdout",
     "output_type": "stream",
     "text": [
      "An error occurred: division by zero\n"
     ]
    }
   ],
   "source": [
    "#ans 3 try-except block is used to catch and handle exception.\n",
    "# try - have the code which have or maynot have an exception\n",
    "# except - handle the exception if it is present in the try block of code \n",
    "try:\n",
    "    x = 10 / 0  # Attempting to divide by zero\n",
    "except ZeroDivisionError as e:\n",
    "    print(\"An error occurred:\", e)\n"
   ]
  },
  {
   "cell_type": "code",
   "execution_count": 7,
   "metadata": {},
   "outputs": [
    {
     "name": "stdout",
     "output_type": "stream",
     "text": [
      "Division successful, result: 5.0\n"
     ]
    }
   ],
   "source": [
    "\"\"\"\n",
    "a) try, else:\n",
    "\n",
    "The try block is used to enclose the code that might raise an exception. The else block is executed if no exceptions occur within the try block.\n",
    "\"\"\"\n",
    "try:\n",
    "    result = 10 / 2  # Division operation\n",
    "except ZeroDivisionError:\n",
    "    print(\"Division by zero error occurred\")\n",
    "else:\n",
    "    print(\"Division successful, result:\", result)\n"
   ]
  },
  {
   "cell_type": "code",
   "execution_count": 8,
   "metadata": {},
   "outputs": [
    {
     "data": {
      "text/plain": [
       "'\\nb) finally:\\n\\n   The finally block is used to define code that should be executed regardless of whether an exception occurs or not.\\n\\ntry: \\n    file = open(\"example.txt\", \"r\")  \\n    content = file.read() \\n    print(content)\\nexcept FileNotFoundError:\\n    print(\"File not found\")\\nfinally:\\n    file.close() \\n    '"
      ]
     },
     "execution_count": 8,
     "metadata": {},
     "output_type": "execute_result"
    }
   ],
   "source": [
    "    \"\"\"\n",
    "    b) finally:\n",
    "\n",
    "       The finally block is used to define code that should be executed regardless of whether an exception occurs or not.\n",
    "    \n",
    "    try: \n",
    "        file = open(\"example.txt\", \"r\")  \n",
    "        content = file.read() \n",
    "        print(content)\n",
    "    except FileNotFoundError:\n",
    "        print(\"File not found\")\n",
    "    finally:\n",
    "        file.close() \n",
    "        \"\"\""
   ]
  },
  {
   "cell_type": "code",
   "execution_count": 9,
   "metadata": {},
   "outputs": [
    {
     "name": "stdout",
     "output_type": "stream",
     "text": [
      "Error: Value must be non-negative\n"
     ]
    }
   ],
   "source": [
    "#c) raise:The raise statement is used to raise a specified exception manually within the code or customise an exception . \n",
    "try:\n",
    "    x = -1\n",
    "    if x < 0:\n",
    "        raise ValueError(\"Value must be non-negative\")\n",
    "except ValueError as ve:\n",
    "    print(\"Error:\", ve)\n"
   ]
  },
  {
   "cell_type": "code",
   "execution_count": 10,
   "metadata": {},
   "outputs": [
    {
     "data": {
      "text/plain": [
       "\"\\n   Custom exceptions in Python are user-defined exceptions that allow programmers to create specific error types tailored to their application's requirements.\\n   They inherit from the built-in Exception class or any of its subclasses and provide additional context or functionality for handling errors in Python programs.\\n   \""
      ]
     },
     "execution_count": 10,
     "metadata": {},
     "output_type": "execute_result"
    }
   ],
   "source": [
    " \"\"\"\n",
    "    Custom exceptions in Python are user-defined exceptions that allow programmers to create specific error types tailored to their application's requirements.\n",
    "    They inherit from the built-in Exception class or any of its subclasses and provide additional context or functionality for handling errors in Python programs.\n",
    "    \"\"\""
   ]
  },
  {
   "cell_type": "code",
   "execution_count": null,
   "metadata": {},
   "outputs": [],
   "source": [
    "    \"\"\"\n",
    "         Here's why we need custom exceptions in Python:\n",
    "\n",
    "           1. Clarity and Readability: Custom exceptions provide meaningful names that describe the error or exceptional condition, making it easier to understand what went \n",
    "              wrong in the code.\n",
    "\n",
    "           2. Granularity: Custom exceptions allow you to handle different exceptional cases differently. This granularity enables more precise error handling and\n",
    "           recovery strategies.\n",
    "\n",
    "           3. Modularity: By encapsulating error conditions within custom exceptions, you can separate error-handling logic from the main code, promoting modular\n",
    "           design and easier maintenance.\n",
    "\n",
    "           4. Debugging: Custom exceptions can include additional information or context about the error, aiding in debugging and troubleshooting.\n",
    "\n",
    "    \"\"\""
   ]
  },
  {
   "cell_type": "code",
   "execution_count": 14,
   "metadata": {},
   "outputs": [
    {
     "name": "stdout",
     "output_type": "stream",
     "text": [
      "Error: Failed to withdraw 1500. Insufficient balance: 1000\n"
     ]
    }
   ],
   "source": [
    "class WithdrawalError(Exception):\n",
    "    \"\"\"Raised when there is an issue with a withdrawal operation.\"\"\"\n",
    "    def __init__(self, balance, amount):\n",
    "        super().__init__(f\"Failed to withdraw {amount}. Insufficient balance: {balance}\")\n",
    "\n",
    "class BankAccount:\n",
    "    def __init__(self, balance):\n",
    "        self.balance = balance\n",
    "\n",
    "    def withdraw(self, amount):\n",
    "        if amount > self.balance:\n",
    "            raise WithdrawalError(self.balance, amount)\n",
    "        self.balance -= amount\n",
    "        return self.balance\n",
    "\n",
    "\n",
    "# Example usage\n",
    "account_balance = 1000\n",
    "account = BankAccount(account_balance)\n",
    "\n",
    "try:\n",
    "    account.withdraw(1500)  # Try to withdraw an amount greater than the balance\n",
    "except WithdrawalError as e:\n",
    "    print(f\"Error: {e}\")  # Handle the custom exception\n"
   ]
  }
 ],
 "metadata": {
  "kernelspec": {
   "display_name": "Python 3",
   "language": "python",
   "name": "python3"
  },
  "language_info": {
   "codemirror_mode": {
    "name": "ipython",
    "version": 3
   },
   "file_extension": ".py",
   "mimetype": "text/x-python",
   "name": "python",
   "nbconvert_exporter": "python",
   "pygments_lexer": "ipython3",
   "version": "3.12.2"
  }
 },
 "nbformat": 4,
 "nbformat_minor": 2
}
